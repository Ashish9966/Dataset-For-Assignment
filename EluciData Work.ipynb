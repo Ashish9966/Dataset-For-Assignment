{
 "cells": [
  {
   "cell_type": "markdown",
   "metadata": {},
   "source": [
    "# Elucidata Work"
   ]
  },
  {
   "cell_type": "markdown",
   "metadata": {},
   "source": [
    "Introduction\n",
    "\n",
    "\n",
    "Cells are the basic units that make up the human body. Cells grow and divide to make new cells as the body needs them. Usually, cells die when they get too old or damaged. Then, new cells take their place.\n",
    "Cancer begins when genetic changes interfere with this orderly process. Cells start to grow uncontrollably. These cells may form a mass called a tumor. A tumor can be cancerous or benign. A cancerous tumor is malignant, meaning it can grow and spread to other parts of the body. A benign tumor means the tumor can grow but will not spread.\n",
    "\n",
    "Pancreatic cancer begins in the tissues of your pancreas — an organ in your abdomen that lies behind the lower part of your stomach. Your pancreas releases enzymes that aid digestion and produces hormones that help manage your blood sugar.\n",
    "Key facts\n",
    "Cancer is the second leading cause of death globally, and is responsible for an estimated 9.6 million deaths in 2018. Globally, about 1 in 6 deaths is due to cancer.\n",
    "Approximately 70% of deaths from cancer occur in low- and middle-income countries.\n",
    "Around one third of deaths from cancer are due to the 5 leading behavioral and dietary risks: high body mass index, low fruit and vegetable intake, lack of physical activity, tobacco use, and alcohol use.\n",
    "Tobacco use is the most important risk factor for cancer and is responsible for approximately 22% of cancer deaths \n",
    " \n",
    "Cancer is a leading cause of death worldwide, accounting for an estimated 9.6 million deaths in 2018. The most common cancers are:\n",
    "Lung (2.09 million cases)\n",
    "Breast (2.09 million cases)\n",
    "Colorectal (1.80 million cases)\n",
    "Prostate (1.28 million cases)\n",
    "Skin cancer (non-melanoma) (1.04 million cases)\n",
    "Stomach (1.03 million cases)\n",
    "\n",
    "The most common causes of cancer death are cancers of:\n",
    "Lung (1.76 million deaths)\n",
    "Colorectal (862 000 deaths)\n",
    "Stomach (783 000 deaths)\n",
    "Liver (782 000 deaths)\n",
    "Breast (627 000 deaths)\n",
    "\n",
    "Pancreatic cancer begins in the tissues of your pancreas — an organ in your abdomen that lies behind the lower part of your stomach. Your pancreas releases enzymes that aid digestion and produces hormones that help manage your blood sugar.\n",
    "\n",
    "1. Pancreatic Adenocarcinoma (PAAD) is the third most common cause of death from cancer, with an overall 5-year survival rate of less than 5%, and is predicted to become the second leading cause of cancer mortality in the United States by 2030.\n",
    "\n",
    "2. Cancer mortality can be reduced if cases are detected and treated early. In this assignment we are going to analyse the previous data of genes structure to detect the cancer patient and provide early treatment.\n",
    "\n",
    "3. Genes Structures: Ribonucleic acid (RNA) is a polymeric molecule essential in various biological roles in coding, decoding, regulation and expression of genes. RNA and DNA are nucleic acids, and, along with lipids, proteins and carbohydrates, constitute the four major macromolecules essential for all known forms of life. RNA-Seq (RNA sequencing), is a sequencing technique to detect the quantity of RNA in a biological sample at a given moment."
   ]
  },
  {
   "cell_type": "code",
   "execution_count": 1,
   "metadata": {},
   "outputs": [],
   "source": [
    "# Importing All the Packages Which are needed for analysis of dataset\n",
    "import numpy as np \n",
    "import pandas as pd \n",
    "import matplotlib.pyplot as plt\n",
    "import seaborn as sns\n",
    "from GSVA import gsva\n",
    "from plotnine import *\n",
    "from sklearn.manifold import TSNE"
   ]
  },
  {
   "cell_type": "markdown",
   "metadata": {},
   "source": [
    "Data Exploration\n",
    "\n",
    "The Given dataset of normalized RNA Sequencing reads for pancreatic cancer tumors. The measurement consists of ~20,000 genes for 183 pancreatic cancer tumors. The file format is GCT , a tab-delimited file used for sharing gene expression data and metadata (details for each sample) for samples.\n"
   ]
  },
  {
   "cell_type": "code",
   "execution_count": 2,
   "metadata": {},
   "outputs": [],
   "source": [
    "from cmapPy.pandasGEXpress.parse import parse"
   ]
  },
  {
   "cell_type": "code",
   "execution_count": 3,
   "metadata": {},
   "outputs": [],
   "source": [
    "data = parse('PAAD.gct')"
   ]
  },
  {
   "cell_type": "code",
   "execution_count": 4,
   "metadata": {},
   "outputs": [
    {
     "name": "stdout",
     "output_type": "stream",
     "text": [
      "<class 'cmapPy.pandasGEXpress.GCToo.GCToo'>\n"
     ]
    }
   ],
   "source": [
    "print(type(data))"
   ]
  },
  {
   "cell_type": "code",
   "execution_count": 5,
   "metadata": {},
   "outputs": [
    {
     "name": "stdout",
     "output_type": "stream",
     "text": [
      "GCT1.3\n",
      "src: PAAD.gct\n",
      "data_df: [18465 rows x 183 columns]\n",
      "row_metadata_df: [18465 rows x 0 columns]\n",
      "col_metadata_df: [183 rows x 124 columns]\n"
     ]
    }
   ],
   "source": [
    "print(data)"
   ]
  },
  {
   "cell_type": "code",
   "execution_count": 6,
   "metadata": {},
   "outputs": [],
   "source": [
    "#Reading the data From All Dimension\n",
    "col_meta_data = data.col_metadata_df\n",
    "row_meta_data = data.row_metadata_df\n",
    "my_data = data.data_df"
   ]
  },
  {
   "cell_type": "markdown",
   "metadata": {},
   "source": [
    "Here we parse our dataset into GCToo pandas dataframe instance which contains 3 component dataframes (row_metadata_df, column_metadata_df, and data_df). \n",
    "Lets see individual dataframe and explore it"
   ]
  },
  {
   "cell_type": "code",
   "execution_count": 7,
   "metadata": {
    "scrolled": false
   },
   "outputs": [
    {
     "data": {
      "text/html": [
       "<div>\n",
       "<style scoped>\n",
       "    .dataframe tbody tr th:only-of-type {\n",
       "        vertical-align: middle;\n",
       "    }\n",
       "\n",
       "    .dataframe tbody tr th {\n",
       "        vertical-align: top;\n",
       "    }\n",
       "\n",
       "    .dataframe thead th {\n",
       "        text-align: right;\n",
       "    }\n",
       "</style>\n",
       "<table border=\"1\" class=\"dataframe\">\n",
       "  <thead>\n",
       "    <tr style=\"text-align: right;\">\n",
       "      <th>rhd</th>\n",
       "    </tr>\n",
       "    <tr>\n",
       "      <th>rid</th>\n",
       "    </tr>\n",
       "  </thead>\n",
       "  <tbody>\n",
       "    <tr>\n",
       "      <td>SLC35E2</td>\n",
       "    </tr>\n",
       "    <tr>\n",
       "      <td>A1BG</td>\n",
       "    </tr>\n",
       "    <tr>\n",
       "      <td>A1CF</td>\n",
       "    </tr>\n",
       "    <tr>\n",
       "      <td>A2BP1</td>\n",
       "    </tr>\n",
       "    <tr>\n",
       "      <td>A2LD1</td>\n",
       "    </tr>\n",
       "    <tr>\n",
       "      <td>...</td>\n",
       "    </tr>\n",
       "    <tr>\n",
       "      <td>ZYG11B</td>\n",
       "    </tr>\n",
       "    <tr>\n",
       "      <td>ZYX</td>\n",
       "    </tr>\n",
       "    <tr>\n",
       "      <td>ZZEF1</td>\n",
       "    </tr>\n",
       "    <tr>\n",
       "      <td>ZZZ3</td>\n",
       "    </tr>\n",
       "    <tr>\n",
       "      <td>psiTPTE22</td>\n",
       "    </tr>\n",
       "  </tbody>\n",
       "</table>\n",
       "<p>18465 rows × 0 columns</p>\n",
       "</div>"
      ],
      "text/plain": [
       "Empty DataFrame\n",
       "Columns: []\n",
       "Index: [SLC35E2, A1BG, A1CF, A2BP1, A2LD1, A2ML1, A2M, A4GALT, A4GNT, AAA1, AAAS, AACSL, AACS, AADAC, AADAT, AAGAB, AAK1, AAMP, AANAT, AARS2, AARSD1, AARS, AASDHPPT, AASDH, AASS, AATF, AATK, ABAT, ABCA10, ABCA11P, ABCA12, ABCA13, ABCA17P, ABCA1, ABCA2, ABCA3, ABCA4, ABCA5, ABCA6, ABCA7, ABCA8, ABCA9, ABCB10, ABCB11, ABCB1, ABCB4, ABCB5, ABCB6, ABCB7, ABCB8, ABCB9, ABCC10, ABCC11, ABCC13, ABCC1, ABCC2, ABCC3, ABCC4, ABCC5, ABCC6P1, ABCC6P2, ABCC6, ABCC8, ABCC9, ABCD1, ABCD2, ABCD3, ABCD4, ABCE1, ABCF1, ABCF2, ABCF3, ABCG1, ABCG2, ABCG4, ABCG5, ABCG8, ABHD10, ABHD11, ABHD12B, ABHD12, ABHD13, ABHD14A, ABHD14B, ABHD15, ABHD1, ABHD2, ABHD3, ABHD4, ABHD5, ABHD6, ABHD8, ABI1, ABI2, ABI3BP, ABI3, ABL1, ABL2, ABLIM1, ABLIM2, ...]\n",
       "\n",
       "[18465 rows x 0 columns]"
      ]
     },
     "execution_count": 7,
     "metadata": {},
     "output_type": "execute_result"
    }
   ],
   "source": [
    "#Checking All the Data\n",
    "my_data\n",
    "col_meta_data\n",
    "row_meta_data\n",
    "#col_meta_data.head()\n",
    "#row_meta_data.head()"
   ]
  },
  {
   "cell_type": "code",
   "execution_count": 8,
   "metadata": {},
   "outputs": [
    {
     "data": {
      "text/plain": [
       "(183, 124)"
      ]
     },
     "execution_count": 8,
     "metadata": {},
     "output_type": "execute_result"
    }
   ],
   "source": [
    "#TO get the Shape of Column MEta data\n",
    "col_meta_data.shape"
   ]
  },
  {
   "cell_type": "code",
   "execution_count": 9,
   "metadata": {},
   "outputs": [
    {
     "name": "stdout",
     "output_type": "stream",
     "text": [
      "86 columns have missing value, and 9659 missing values in dataset\n"
     ]
    },
    {
     "data": {
      "text/plain": [
       "<matplotlib.axes._subplots.AxesSubplot at 0x7f40dfa0e2d0>"
      ]
     },
     "execution_count": 9,
     "metadata": {},
     "output_type": "execute_result"
    },
    {
     "data": {
      "image/png": "[encoded data removed]",
      "text/plain": [
       "<Figure size 720x504 with 1 Axes>"
      ]
     },
     "metadata": {
      "needs_background": "light"
     },
     "output_type": "display_data"
    }
   ],
   "source": [
    "# Number of missing values in each column of column Meta Data\n",
    "missing_value_of_col = (col_meta_data.isnull().sum())\n",
    "missing_value_count_of_col = missing_value_of_col[missing_value_of_col > 0].sort_values(ascending=False)\n",
    "print(f\"{len(missing_value_count_of_col)} columns have missing value, and\",\n",
    "      f\"{col_meta_data.isnull().sum().sum()} missing values in dataset\")\n",
    "plt.figure(figsize=(10, 7))\n",
    "sns.countplot(data=missing_value_count_of_col,y= missing_value_count_of_col )"
   ]
  },
  {
   "cell_type": "markdown",
   "metadata": {},
   "source": [
    "The above Graph Shows the frequency of missing Value"
   ]
  },
  {
   "cell_type": "code",
   "execution_count": 10,
   "metadata": {},
   "outputs": [
    {
     "name": "stdout",
     "output_type": "stream",
     "text": [
      "participant_id:   178 unique values:\n",
      "sample_type:   3 unique values:\n",
      "mRNAseq_cluster:   6 unique values:\n",
      "bcr_patient_barcode:   178 unique values:\n",
      "bcr_patient_uuid:   178 unique values:\n",
      "vital_status:   2 unique values:\n",
      "days_to_death:   90 unique values:\n",
      "days_to_last_followup:   85 unique values:\n",
      "additional_studies:   1 unique values:\n",
      "adenocarcinoma_invasion:   2 unique values:\n",
      "age_at_initial_pathologic_diagnosis:   45 unique values:\n",
      "alcohol_history_documented:   3 unique values:\n",
      "alcoholic_exposure_category:   6 unique values:\n",
      "amount_of_alcohol_consumption_per_day:   7 unique values:\n",
      "anatomic_neoplasm_subdivision:   4 unique values:\n",
      "anatomic_neoplasm_subdivision_other:   11 unique values:\n",
      "b_symptoms:   1 unique values:\n",
      "bcr:   1 unique values:\n",
      "bcr_aliquot_uuid:   178 unique values:\n",
      "bcr_canonical_reason-2:   2 unique values:\n",
      "bcr_canonical_reason-3:   2 unique values:\n",
      "bcr_canonical_reason:   4 unique values:\n",
      "bcr_followup_barcode:   151 unique values:\n",
      "bcr_followup_uuid:   151 unique values:\n",
      "bcr_patient_canonical_status:   2 unique values:\n",
      "clinical_m:   1 unique values:\n",
      "clinical_n:   1 unique values:\n",
      "clinical_stage:   1 unique values:\n",
      "clinical_t:   1 unique values:\n",
      "course_number:   1 unique values:\n",
      "day_of_dcc_upload:   1 unique values:\n",
      "day_of_form_completion:   30 unique values:\n",
      "days_to_birth:   177 unique values:\n",
      "days_to_diabetes_onset:   15 unique values:\n",
      "days_to_index:   2 unique values:\n",
      "days_to_initial_pathologic_diagnosis:   2 unique values:\n",
      "days_to_pancreatitis_onset:   12 unique values:\n",
      "days_to_psa:   1 unique values:\n",
      "disease_code:   1 unique values:\n",
      "drugs:   1 unique values:\n",
      "ethnicity:   3 unique values:\n",
      "extranodal_involvement:   1 unique values:\n",
      "family_history_of_cancer:   3 unique values:\n",
      "file_uuid:   178 unique values:\n",
      "follow_ups:   1 unique values:\n",
      "followup_case_report_form_submission_reason:   3 unique values:\n",
      "followup_treatment_success:   5 unique values:\n",
      "frequency_of_alcohol_consumption:   8 unique values:\n",
      "gender:   2 unique values:\n",
      "gleason_score:   1 unique values:\n",
      "histologic_grading_tier_category:   3 unique values:\n",
      "histological_type:   5 unique values:\n",
      "histological_type_other:   15 unique values:\n",
      "history_of_chronic_pancreatitis:   3 unique values:\n",
      "history_of_diabetes:   3 unique values:\n",
      "history_of_neoadjuvant_treatment:   2 unique values:\n",
      "history_prior_surgery_type_other:   11 unique values:\n",
      "hiv_status:   1 unique values:\n",
      "icd_10:   5 unique values:\n",
      "icd_o_3_histology:   6 unique values:\n",
      "icd_o_3_site:   5 unique values:\n",
      "igcccg_stage:   1 unique values:\n",
      "informed_consent_verified:   1 unique values:\n",
      "init_pathology_dx_method_other:   4 unique values:\n",
      "initial_pathologic_diagnosis_method:   5 unique values:\n",
      "lost_follow_up:   3 unique values:\n",
      "lymph_node_examined_count:   40 unique values:\n",
      "masaoka_stage:   1 unique values:\n",
      "maximum_tumor_dimension:   42 unique values:\n",
      "mononucleotide_and_dinucleotide_marker_panel_analysis_status:   3 unique values:\n",
      "mononucleotide_marker_panel_analysis_status:   1 unique values:\n",
      "month_of_dcc_upload:   1 unique values:\n",
      "month_of_form_completion:   12 unique values:\n",
      "neoplasm_histologic_grade:   5 unique values:\n",
      "number_cycles:   1 unique values:\n",
      "number_of_lymphnodes_positive_by_he:   17 unique values:\n",
      "number_of_lymphnodes_positive_by_ihc:   2 unique values:\n",
      "number_pack_years_smoked:   32 unique values:\n",
      "other_dx:   2 unique values:\n",
      "pathologic_m:   3 unique values:\n",
      "pathologic_n:   5 unique values:\n",
      "pathologic_stage:   8 unique values:\n",
      "pathologic_t:   6 unique values:\n",
      "patient_death_reason:   6 unique values:\n",
      "person_neoplasm_cancer_status:   3 unique values:\n",
      "prescribed_dose:   1 unique values:\n",
      "prescribed_dose_units:   1 unique values:\n",
      "primary_lymph_node_presentation_assessment:   3 unique values:\n",
      "primary_pattern:   1 unique values:\n",
      "primary_therapy_outcome_success:   5 unique values:\n",
      "progression_determined_by-3:   2 unique values:\n",
      "project_code:   1 unique values:\n",
      "psa_value:   1 unique values:\n",
      "race:   4 unique values:\n",
      "radiation_therapy:   3 unique values:\n",
      "radiation_type_notes:   1 unique values:\n",
      "radiations:   1 unique values:\n",
      "regimen_number:   1 unique values:\n",
      "relative_cancer_type-2:   2 unique values:\n",
      "relative_cancer_type:   5 unique values:\n",
      "residual_tumor:   5 unique values:\n",
      "route_of_administration:   1 unique values:\n",
      "secondary_pattern:   1 unique values:\n",
      "serum_markers:   1 unique values:\n",
      "source_of_patient_death_reason:   4 unique values:\n",
      "stopped_smoking_year:   35 unique values:\n",
      "surgery_performed_type:   5 unique values:\n",
      "system_version:   2 unique values:\n",
      "targeted_molecular_therapy:   3 unique values:\n",
      "tertiary_pattern:   1 unique values:\n",
      "therapy_type_notes:   1 unique values:\n",
      "tissue_prospective_collection_indicator:   2 unique values:\n",
      "tissue_retrospective_collection_indicator:   2 unique values:\n",
      "tissue_source_site:   27 unique values:\n",
      "tobacco_smoking_history:   6 unique values:\n",
      "total_dose:   1 unique values:\n",
      "total_dose_units:   1 unique values:\n",
      "tumor_tissue_site:   1 unique values:\n",
      "tumor_type:   1 unique values:\n",
      "withdrawn:   1 unique values:\n",
      "year_of_dcc_upload:   1 unique values:\n",
      "year_of_form_completion:   4 unique values:\n",
      "year_of_initial_pathologic_diagnosis:   9 unique values:\n",
      "year_of_tobacco_smoking_onset:   31 unique values:\n"
     ]
    }
   ],
   "source": [
    "for column in col_meta_data.columns:\n",
    "    print(f\"{column}:   {len(col_meta_data[column].unique())} unique values:\")"
   ]
  },
  {
   "cell_type": "code",
   "execution_count": 11,
   "metadata": {},
   "outputs": [
    {
     "data": {
      "text/plain": [
       "(183, 83)"
      ]
     },
     "execution_count": 11,
     "metadata": {},
     "output_type": "execute_result"
    }
   ],
   "source": [
    "# droping columns which have constant value\n",
    "for col in col_meta_data.columns:\n",
    "    if len(col_meta_data[col].unique())<2:\n",
    "        col_meta_data.drop(columns=col, inplace=True)\n",
    "\n",
    "col_meta_data.shape"
   ]
  },
  {
   "cell_type": "markdown",
   "metadata": {},
   "source": [
    "Columns metadata explain about behaviour of patient. Lets see the description of some variables of this data.\n",
    "\n",
    "sample_type: is our target variable which tells that which patient have cancer tumor or not.\n",
    "\n",
    "participant_id: unique value for each patient.\n",
    "\n",
    "mRNAseq_cluster: estimates of the levels of individual isoforms within the cell of RNA sequence.\n",
    "\n",
    "bcr_patient_barcode and bcr_patient_uuid representing the metadata of the participants and their samples.\n",
    "\n",
    "vital_status: Current status of patient(live/death). (may pose data leakage)\n",
    "\n",
    "adenocarcinoma_invasion: Tells about cancer grows and spreads to near cell or not.\n",
    "\n",
    "maximum_tumor_dimension: Size of Tumor, tumor size is strongly related to chances for survival.\n",
    "\n",
    "pathologic_stage: Stage of cancer (amount or spread of cancer in the body)\n",
    "\n",
    "pathologic_m: The M refers to whether the cancer has metastasized. This means that the cancer has spread from the \n",
    "\n",
    "primary tumor: to other parts of the body\n",
    "\n",
    "pathologic_n: The N refers to the the number of nearby lymph nodes that have cancer.\n",
    "\n",
    "pathologic_t: The T refers to the size and extent of the main tumor. The main tumor is usually called the primary tumor."
   ]
  },
  {
   "cell_type": "code",
   "execution_count": 12,
   "metadata": {},
   "outputs": [
    {
     "data": {
      "text/plain": [
       "other       42\n",
       "pancreas    11\n",
       "breast      10\n",
       "melanoma     2\n",
       "Name: relative_cancer_type, dtype: int64"
      ]
     },
     "execution_count": 12,
     "metadata": {},
     "output_type": "execute_result"
    }
   ],
   "source": [
    "# Exploring Some Columns to Understand the data \n",
    "col_meta_data['sample_type'].unique()# Target Varaible For Classification \n",
    "\n",
    "col_meta_data.relative_cancer_type.value_counts()\n"
   ]
  },
  {
   "cell_type": "code",
   "execution_count": 13,
   "metadata": {},
   "outputs": [
    {
     "name": "stderr",
     "output_type": "stream",
     "text": [
      "No handles with labels found to put in legend.\n"
     ]
    },
    {
     "data": {
      "text/plain": [
       "<matplotlib.legend.Legend at 0x7f40dfa93390>"
      ]
     },
     "execution_count": 13,
     "metadata": {},
     "output_type": "execute_result"
    },
    {
     "data": {
      "image/png": "[encoded data removed]",
      "text/plain": [
       "<Figure size 720x360 with 1 Axes>"
      ]
     },
     "metadata": {
      "needs_background": "light"
     },
     "output_type": "display_data"
    }
   ],
   "source": [
    "conts_mRNA = col_meta_data.mRNAseq_cluster.value_counts()\n",
    "plt.figure(figsize=(10,5))\n",
    "sns.barplot(x=conts_mRNA.index,y=conts_mRNA.values,)\n",
    "plt.ylabel('Number of Patient')\n",
    "plt.xlabel('RNA sequence cluster')\n",
    "plt.title('levels of individual isoforms')\n",
    "plt.legend()"
   ]
  },
  {
   "cell_type": "markdown",
   "metadata": {},
   "source": [
    "The graph Depicts the Number Of Patients with the Specific RNA Sequence Cluster"
   ]
  },
  {
   "cell_type": "code",
   "execution_count": 14,
   "metadata": {},
   "outputs": [
    {
     "data": {
      "text/plain": [
       "stage iib    122\n",
       "stage iia     29\n",
       "stage ib      15\n",
       "stage iv       5\n",
       "stage ia       5\n",
       "stage iii      4\n",
       "stage i        1\n",
       "Name: pathologic_stage, dtype: int64"
      ]
     },
     "execution_count": 14,
     "metadata": {},
     "output_type": "execute_result"
    }
   ],
   "source": [
    "col_meta_data.pathologic_stage.value_counts()"
   ]
  },
  {
   "cell_type": "code",
   "execution_count": 15,
   "metadata": {},
   "outputs": [
    {
     "data": {
      "text/plain": [
       "Text(0.5, 1.0, 'Vital status vs cancer type ')"
      ]
     },
     "execution_count": 15,
     "metadata": {},
     "output_type": "execute_result"
    },
    {
     "data": {
      "image/png": "[encoded data removed]",
      "text/plain": [
       "<Figure size 720x216 with 1 Axes>"
      ]
     },
     "metadata": {
      "needs_background": "light"
     },
     "output_type": "display_data"
    }
   ],
   "source": [
    "#This Graph will plot the Relationship of person died with the different type of cancer\n",
    "sample_type_group = col_meta_data.groupby(['sample_type', 'vital_status'])['vital_status'].count().reset_index(name='counts')\n",
    "plt.figure(figsize=(10, 3))\n",
    "sns.barplot(x='sample_type', y='counts', hue='vital_status', data=sample_type_group)\n",
    "plt.ylabel('Number of Patient')\n",
    "plt.xlabel('Types of cancer')\n",
    "plt.title('Vital status vs cancer type ')"
   ]
  },
  {
   "cell_type": "code",
   "execution_count": 16,
   "metadata": {},
   "outputs": [
    {
     "data": {
      "text/plain": [
       "<seaborn.axisgrid.FacetGrid at 0x7f40dfa66b10>"
      ]
     },
     "execution_count": 16,
     "metadata": {},
     "output_type": "execute_result"
    },
    {
     "data": {
      "image/png": "[encoded data removed]",
      "text/plain": [
       "<Figure size 496.484x360 with 1 Axes>"
      ]
     },
     "metadata": {
      "needs_background": "light"
     },
     "output_type": "display_data"
    }
   ],
   "source": [
    "#The Graph for the connection of tumor Dimension and how it affects the Vital Status with the type of cancer\n",
    "sns.catplot(x='vital_status', y='maximum_tumor_dimension', hue='sample_type', data=col_meta_data)"
   ]
  },
  {
   "cell_type": "code",
   "execution_count": 17,
   "metadata": {},
   "outputs": [
    {
     "data": {
      "text/plain": [
       "<matplotlib.axes._subplots.AxesSubplot at 0x7f40dfb07510>"
      ]
     },
     "execution_count": 17,
     "metadata": {},
     "output_type": "execute_result"
    },
    {
     "data": {
      "image/png": "[encoded data removed]",
      "text/plain": [
       "<Figure size 720x360 with 1 Axes>"
      ]
     },
     "metadata": {
      "needs_background": "light"
     },
     "output_type": "display_data"
    }
   ],
   "source": [
    "#Graph for the Connectioin of Alive or Not with Pathological COndition \n",
    "pathologic_t_group = col_meta_data.groupby(['pathologic_t', 'vital_status'])['vital_status'].count().reset_index(name='counts')\n",
    "plt.figure(figsize=(10, 5))\n",
    "sns.barplot(x='pathologic_t', y='counts', hue='vital_status', data=pathologic_t_group)"
   ]
  },
  {
   "cell_type": "code",
   "execution_count": 18,
   "metadata": {},
   "outputs": [
    {
     "data": {
      "text/plain": [
       "<matplotlib.axes._subplots.AxesSubplot at 0x7f40dfb65a10>"
      ]
     },
     "execution_count": 18,
     "metadata": {},
     "output_type": "execute_result"
    },
    {
     "data": {
      "image/png": "[encoded data removed]",
      "text/plain": [
       "<Figure size 432x288 with 1 Axes>"
      ]
     },
     "metadata": {
      "needs_background": "light"
     },
     "output_type": "display_data"
    }
   ],
   "source": [
    "#Graph for the the people who were having tumor of different dmension and how many are alive and dead.\n",
    "sns.boxplot(x='maximum_tumor_dimension', y='vital_status', data=col_meta_data)"
   ]
  },
  {
   "cell_type": "code",
   "execution_count": 19,
   "metadata": {},
   "outputs": [
    {
     "data": {
      "text/plain": [
       "<matplotlib.axes._subplots.AxesSubplot at 0x7f40dfbaed90>"
      ]
     },
     "execution_count": 19,
     "metadata": {},
     "output_type": "execute_result"
    },
    {
     "data": {
      "image/png": "[encoded data removed]",
      "text/plain": [
       "<Figure size 720x360 with 1 Axes>"
      ]
     },
     "metadata": {
      "needs_background": "light"
     },
     "output_type": "display_data"
    }
   ],
   "source": [
    "#The Pathological Stage Graph and Count of Having the different stage of Cancer\n",
    "pathologic_stage_group = col_meta_data.groupby(['pathologic_stage', 'vital_status'])['vital_status'].count().reset_index(name='counts')\n",
    "plt.figure(figsize=(10, 5))\n",
    "sns.barplot(x='pathologic_stage', y='counts', hue='vital_status', data=pathologic_stage_group)"
   ]
  },
  {
   "cell_type": "code",
   "execution_count": 20,
   "metadata": {},
   "outputs": [
    {
     "data": {
      "text/plain": [
       "<matplotlib.axes._subplots.AxesSubplot at 0x7f40dfba8f50>"
      ]
     },
     "execution_count": 20,
     "metadata": {},
     "output_type": "execute_result"
    },
    {
     "data": {
      "image/png": "[encoded data removed]",
      "text/plain": [
       "<Figure size 720x360 with 1 Axes>"
      ]
     },
     "metadata": {
      "needs_background": "light"
     },
     "output_type": "display_data"
    }
   ],
   "source": [
    "pathologic_m_group = col_meta_data.groupby(['pathologic_m', 'vital_status'])['vital_status'].count().reset_index(name='counts')\n",
    "plt.figure(figsize=(10, 5))\n",
    "sns.barplot(x='pathologic_m', y='counts', hue='vital_status', data=pathologic_m_group)"
   ]
  },
  {
   "cell_type": "code",
   "execution_count": 21,
   "metadata": {},
   "outputs": [
    {
     "data": {
      "text/plain": [
       "<matplotlib.axes._subplots.AxesSubplot at 0x7f40dfc37350>"
      ]
     },
     "execution_count": 21,
     "metadata": {},
     "output_type": "execute_result"
    },
    {
     "data": {
      "image/png": "[encoded data removed]",
      "text/plain": [
       "<Figure size 720x360 with 1 Axes>"
      ]
     },
     "metadata": {
      "needs_background": "light"
     },
     "output_type": "display_data"
    }
   ],
   "source": [
    "pathologic_t_group = col_meta_data.groupby(['pathologic_t', 'vital_status'])['vital_status'].count().reset_index(name='counts')\n",
    "plt.figure(figsize=(10, 5))\n",
    "sns.barplot(x='pathologic_t', y='counts', hue='vital_status', data=pathologic_t_group)"
   ]
  },
  {
   "cell_type": "code",
   "execution_count": 22,
   "metadata": {},
   "outputs": [
    {
     "name": "stdout",
     "output_type": "stream",
     "text": [
      "RNA sequence cluster:3.0 types patient is 24.16% of total \n",
      "RNA sequence cluster:4.0 types patient is 22.47% of total \n",
      "RNA sequence cluster:1.0 types patient is 21.91% of total \n",
      "RNA sequence cluster:5.0 types patient is 16.85% of total \n",
      "RNA sequence cluster:2.0 types patient is 14.61% of total \n"
     ]
    }
   ],
   "source": [
    "for i, index in enumerate(conts_mRNA.index):\n",
    "    val = conts_mRNA.values[i]\n",
    "    val_pcn = round(((val)/sum(conts_mRNA.values))*100, 2)\n",
    "    print(f\"RNA sequence cluster:{index} types patient is {val_pcn}% of total \")"
   ]
  },
  {
   "cell_type": "code",
   "execution_count": 23,
   "metadata": {},
   "outputs": [
    {
     "name": "stdout",
     "output_type": "stream",
     "text": [
      "mRNAseq_cluster type 1.0 patient dead 64.1% times\n",
      "mRNAseq_cluster type 1.0 patient alive 35.9% times\n",
      "\n",
      "\n",
      "mRNAseq_cluster type 2.0 patient dead 23.08% times\n",
      "mRNAseq_cluster type 2.0 patient alive 76.92% times\n",
      "\n",
      "\n",
      "mRNAseq_cluster type 3.0 patient dead 65.12% times\n",
      "mRNAseq_cluster type 3.0 patient alive 34.88% times\n",
      "\n",
      "\n",
      "mRNAseq_cluster type 4.0 patient dead 57.5% times\n",
      "mRNAseq_cluster type 4.0 patient alive 42.5% times\n",
      "\n",
      "\n",
      "mRNAseq_cluster type 5.0 patient dead 36.67% times\n",
      "mRNAseq_cluster type 5.0 patient alive 63.33% times\n",
      "\n",
      "\n"
     ]
    }
   ],
   "source": [
    "mRNA_seq_group = col_meta_data.groupby(['mRNAseq_cluster', 'vital_status'])['vital_status'].count().reset_index(name='counts')\n",
    "for cluster_type in mRNA_seq_group.mRNAseq_cluster.unique():\n",
    "    data = mRNA_seq_group[mRNA_seq_group.mRNAseq_cluster==cluster_type]\n",
    "    live_pcn = round((data[data['vital_status']=='alive']['counts']\n",
    "                      /sum(data.counts.values))*100, 2)\n",
    "    dead_pcn = round((data[data['vital_status']=='dead']['counts']/\n",
    "                     sum(data.counts.values))*100, 2)\n",
    "    print(f\"mRNAseq_cluster type {cluster_type} patient dead {dead_pcn.values[0]}% times\")\n",
    "    print(f\"mRNAseq_cluster type {cluster_type} patient alive {live_pcn.values[0]}% times\")\n",
    "    print(\"\\n\")"
   ]
  },
  {
   "cell_type": "markdown",
   "metadata": {},
   "source": [
    "This Data Shows the Different type of Cluster having mRNAseqCluster who are alive and dead: with this we can inference that type 5 and type 2 are  less risky comparing to type 3 and type 1"
   ]
  },
  {
   "cell_type": "code",
   "execution_count": 24,
   "metadata": {},
   "outputs": [
    {
     "name": "stdout",
     "output_type": "stream",
     "text": [
      "Index(['SLC35E2', 'A1BG', 'A1CF', 'A2BP1', 'A2LD1'], dtype='object', name='rid')\n",
      "(18465, 0)\n"
     ]
    },
    {
     "data": {
      "text/html": [
       "<div>\n",
       "<style scoped>\n",
       "    .dataframe tbody tr th:only-of-type {\n",
       "        vertical-align: middle;\n",
       "    }\n",
       "\n",
       "    .dataframe tbody tr th {\n",
       "        vertical-align: top;\n",
       "    }\n",
       "\n",
       "    .dataframe thead th {\n",
       "        text-align: right;\n",
       "    }\n",
       "</style>\n",
       "<table border=\"1\" class=\"dataframe\">\n",
       "  <thead>\n",
       "    <tr style=\"text-align: right;\">\n",
       "      <th>rhd</th>\n",
       "    </tr>\n",
       "    <tr>\n",
       "      <th>rid</th>\n",
       "    </tr>\n",
       "  </thead>\n",
       "  <tbody>\n",
       "    <tr>\n",
       "      <td>SLC35E2</td>\n",
       "    </tr>\n",
       "    <tr>\n",
       "      <td>A1BG</td>\n",
       "    </tr>\n",
       "    <tr>\n",
       "      <td>A1CF</td>\n",
       "    </tr>\n",
       "    <tr>\n",
       "      <td>A2BP1</td>\n",
       "    </tr>\n",
       "    <tr>\n",
       "      <td>A2LD1</td>\n",
       "    </tr>\n",
       "  </tbody>\n",
       "</table>\n",
       "</div>"
      ],
      "text/plain": [
       "Empty DataFrame\n",
       "Columns: []\n",
       "Index: [SLC35E2, A1BG, A1CF, A2BP1, A2LD1]"
      ]
     },
     "execution_count": 24,
     "metadata": {},
     "output_type": "execute_result"
    }
   ],
   "source": [
    "print(row_meta_data.index[:5])\n",
    "print(row_meta_data.shape)\n",
    "row_meta_data.head()"
   ]
  },
  {
   "cell_type": "code",
   "execution_count": 25,
   "metadata": {},
   "outputs": [
    {
     "name": "stdout",
     "output_type": "stream",
     "text": [
      "Total 183 columns have missing value, and Total 134954 missing values in dataset\n"
     ]
    }
   ],
   "source": [
    "# Number of missing values in each column of my data\n",
    "missing_val_count_by_column = (my_data.isnull().sum())\n",
    "missing_val_count_by_col = missing_val_count_by_column[missing_val_count_by_column > 0].sort_values(ascending=False)\n",
    "print(f\"Total {len(missing_val_count_by_col)} columns have missing value, and\",\n",
    "      f\"Total {my_data.isnull().sum().sum()} missing values in dataset\")"
   ]
  },
  {
   "cell_type": "code",
   "execution_count": 26,
   "metadata": {},
   "outputs": [
    {
     "data": {
      "text/html": [
       "<div>\n",
       "<style scoped>\n",
       "    .dataframe tbody tr th:only-of-type {\n",
       "        vertical-align: middle;\n",
       "    }\n",
       "\n",
       "    .dataframe tbody tr th {\n",
       "        vertical-align: top;\n",
       "    }\n",
       "\n",
       "    .dataframe thead th {\n",
       "        text-align: right;\n",
       "    }\n",
       "</style>\n",
       "<table border=\"1\" class=\"dataframe\">\n",
       "  <thead>\n",
       "    <tr style=\"text-align: right;\">\n",
       "      <th>cid</th>\n",
       "      <th>aab1-Primary solid Tumor</th>\n",
       "      <th>aab4-Primary solid Tumor</th>\n",
       "      <th>aab6-Primary solid Tumor</th>\n",
       "      <th>aab8-Primary solid Tumor</th>\n",
       "      <th>aab9-Primary solid Tumor</th>\n",
       "      <th>aaba-Primary solid Tumor</th>\n",
       "      <th>aabe-Primary solid Tumor</th>\n",
       "      <th>aabf-Primary solid Tumor</th>\n",
       "      <th>aabh-Primary solid Tumor</th>\n",
       "      <th>aabi-Primary solid Tumor</th>\n",
       "      <th>...</th>\n",
       "      <th>aauh-Primary solid Tumor</th>\n",
       "      <th>aaui-Primary solid Tumor</th>\n",
       "      <th>aaul-Primary solid Tumor</th>\n",
       "      <th>a8t3-Primary solid Tumor</th>\n",
       "      <th>a8t5-Primary solid Tumor</th>\n",
       "      <th>a89d-Solid Tissue Normal</th>\n",
       "      <th>a89d-Primary solid Tumor</th>\n",
       "      <th>a8sy-Primary solid Tumor</th>\n",
       "      <th>a8lh-Primary solid Tumor</th>\n",
       "      <th>aapl-Primary solid Tumor</th>\n",
       "    </tr>\n",
       "    <tr>\n",
       "      <th>rid</th>\n",
       "      <th></th>\n",
       "      <th></th>\n",
       "      <th></th>\n",
       "      <th></th>\n",
       "      <th></th>\n",
       "      <th></th>\n",
       "      <th></th>\n",
       "      <th></th>\n",
       "      <th></th>\n",
       "      <th></th>\n",
       "      <th></th>\n",
       "      <th></th>\n",
       "      <th></th>\n",
       "      <th></th>\n",
       "      <th></th>\n",
       "      <th></th>\n",
       "      <th></th>\n",
       "      <th></th>\n",
       "      <th></th>\n",
       "      <th></th>\n",
       "      <th></th>\n",
       "    </tr>\n",
       "  </thead>\n",
       "  <tbody>\n",
       "    <tr>\n",
       "      <td>SLC35E2</td>\n",
       "      <td>7.45</td>\n",
       "      <td>8.1</td>\n",
       "      <td>7.200000</td>\n",
       "      <td>8.000000</td>\n",
       "      <td>7.65</td>\n",
       "      <td>8.100000</td>\n",
       "      <td>8.200000</td>\n",
       "      <td>8.2</td>\n",
       "      <td>7.55</td>\n",
       "      <td>8.450000</td>\n",
       "      <td>...</td>\n",
       "      <td>8.45</td>\n",
       "      <td>7.95</td>\n",
       "      <td>8.3</td>\n",
       "      <td>8.050000</td>\n",
       "      <td>8.2</td>\n",
       "      <td>7.25</td>\n",
       "      <td>7.4</td>\n",
       "      <td>7.350000</td>\n",
       "      <td>7.2</td>\n",
       "      <td>9.050000</td>\n",
       "    </tr>\n",
       "    <tr>\n",
       "      <td>A1BG</td>\n",
       "      <td>6.40</td>\n",
       "      <td>5.8</td>\n",
       "      <td>6.400000</td>\n",
       "      <td>5.800000</td>\n",
       "      <td>6.70</td>\n",
       "      <td>6.600000</td>\n",
       "      <td>6.300000</td>\n",
       "      <td>6.5</td>\n",
       "      <td>5.70</td>\n",
       "      <td>6.300000</td>\n",
       "      <td>...</td>\n",
       "      <td>7.10</td>\n",
       "      <td>7.10</td>\n",
       "      <td>6.7</td>\n",
       "      <td>7.000000</td>\n",
       "      <td>6.9</td>\n",
       "      <td>7.10</td>\n",
       "      <td>7.3</td>\n",
       "      <td>7.900000</td>\n",
       "      <td>6.0</td>\n",
       "      <td>6.900000</td>\n",
       "    </tr>\n",
       "    <tr>\n",
       "      <td>A1CF</td>\n",
       "      <td>4.70</td>\n",
       "      <td>5.7</td>\n",
       "      <td>3.000000</td>\n",
       "      <td>5.100000</td>\n",
       "      <td>4.40</td>\n",
       "      <td>4.200000</td>\n",
       "      <td>1.600000</td>\n",
       "      <td>6.8</td>\n",
       "      <td>6.00</td>\n",
       "      <td>7.431307</td>\n",
       "      <td>...</td>\n",
       "      <td>5.40</td>\n",
       "      <td>6.40</td>\n",
       "      <td>6.5</td>\n",
       "      <td>4.400000</td>\n",
       "      <td>3.3</td>\n",
       "      <td>3.60</td>\n",
       "      <td>6.2</td>\n",
       "      <td>1.200000</td>\n",
       "      <td>4.9</td>\n",
       "      <td>2.000000</td>\n",
       "    </tr>\n",
       "    <tr>\n",
       "      <td>A2BP1</td>\n",
       "      <td>-1.00</td>\n",
       "      <td>1.1</td>\n",
       "      <td>7.577068</td>\n",
       "      <td>7.728812</td>\n",
       "      <td>0.10</td>\n",
       "      <td>7.664173</td>\n",
       "      <td>7.628676</td>\n",
       "      <td>1.7</td>\n",
       "      <td>0.40</td>\n",
       "      <td>-1.500000</td>\n",
       "      <td>...</td>\n",
       "      <td>3.50</td>\n",
       "      <td>1.30</td>\n",
       "      <td>-0.3</td>\n",
       "      <td>7.685606</td>\n",
       "      <td>2.1</td>\n",
       "      <td>2.00</td>\n",
       "      <td>0.0</td>\n",
       "      <td>7.540936</td>\n",
       "      <td>2.0</td>\n",
       "      <td>7.660114</td>\n",
       "    </tr>\n",
       "    <tr>\n",
       "      <td>A2LD1</td>\n",
       "      <td>7.50</td>\n",
       "      <td>6.8</td>\n",
       "      <td>7.300000</td>\n",
       "      <td>7.500000</td>\n",
       "      <td>7.40</td>\n",
       "      <td>6.600000</td>\n",
       "      <td>7.100000</td>\n",
       "      <td>6.8</td>\n",
       "      <td>8.00</td>\n",
       "      <td>5.800000</td>\n",
       "      <td>...</td>\n",
       "      <td>6.50</td>\n",
       "      <td>7.30</td>\n",
       "      <td>6.1</td>\n",
       "      <td>6.700000</td>\n",
       "      <td>6.5</td>\n",
       "      <td>6.70</td>\n",
       "      <td>6.7</td>\n",
       "      <td>6.500000</td>\n",
       "      <td>6.9</td>\n",
       "      <td>6.700000</td>\n",
       "    </tr>\n",
       "    <tr>\n",
       "      <td>...</td>\n",
       "      <td>...</td>\n",
       "      <td>...</td>\n",
       "      <td>...</td>\n",
       "      <td>...</td>\n",
       "      <td>...</td>\n",
       "      <td>...</td>\n",
       "      <td>...</td>\n",
       "      <td>...</td>\n",
       "      <td>...</td>\n",
       "      <td>...</td>\n",
       "      <td>...</td>\n",
       "      <td>...</td>\n",
       "      <td>...</td>\n",
       "      <td>...</td>\n",
       "      <td>...</td>\n",
       "      <td>...</td>\n",
       "      <td>...</td>\n",
       "      <td>...</td>\n",
       "      <td>...</td>\n",
       "      <td>...</td>\n",
       "      <td>...</td>\n",
       "    </tr>\n",
       "    <tr>\n",
       "      <td>ZYG11B</td>\n",
       "      <td>9.20</td>\n",
       "      <td>9.3</td>\n",
       "      <td>9.400000</td>\n",
       "      <td>9.400000</td>\n",
       "      <td>9.30</td>\n",
       "      <td>9.900000</td>\n",
       "      <td>9.100000</td>\n",
       "      <td>9.5</td>\n",
       "      <td>8.90</td>\n",
       "      <td>8.300000</td>\n",
       "      <td>...</td>\n",
       "      <td>9.70</td>\n",
       "      <td>9.20</td>\n",
       "      <td>9.5</td>\n",
       "      <td>9.500000</td>\n",
       "      <td>9.4</td>\n",
       "      <td>9.40</td>\n",
       "      <td>9.6</td>\n",
       "      <td>9.200000</td>\n",
       "      <td>8.3</td>\n",
       "      <td>9.500000</td>\n",
       "    </tr>\n",
       "    <tr>\n",
       "      <td>ZYX</td>\n",
       "      <td>12.90</td>\n",
       "      <td>12.4</td>\n",
       "      <td>13.500000</td>\n",
       "      <td>12.500000</td>\n",
       "      <td>13.00</td>\n",
       "      <td>12.200000</td>\n",
       "      <td>12.900000</td>\n",
       "      <td>12.6</td>\n",
       "      <td>12.70</td>\n",
       "      <td>12.500000</td>\n",
       "      <td>...</td>\n",
       "      <td>12.40</td>\n",
       "      <td>12.60</td>\n",
       "      <td>13.5</td>\n",
       "      <td>12.500000</td>\n",
       "      <td>12.7</td>\n",
       "      <td>13.60</td>\n",
       "      <td>13.1</td>\n",
       "      <td>13.200000</td>\n",
       "      <td>12.3</td>\n",
       "      <td>12.300000</td>\n",
       "    </tr>\n",
       "    <tr>\n",
       "      <td>ZZEF1</td>\n",
       "      <td>10.10</td>\n",
       "      <td>9.8</td>\n",
       "      <td>9.800000</td>\n",
       "      <td>9.700000</td>\n",
       "      <td>10.10</td>\n",
       "      <td>10.400000</td>\n",
       "      <td>9.700000</td>\n",
       "      <td>10.6</td>\n",
       "      <td>10.00</td>\n",
       "      <td>9.900000</td>\n",
       "      <td>...</td>\n",
       "      <td>10.60</td>\n",
       "      <td>9.90</td>\n",
       "      <td>9.8</td>\n",
       "      <td>10.300000</td>\n",
       "      <td>10.4</td>\n",
       "      <td>10.20</td>\n",
       "      <td>9.9</td>\n",
       "      <td>9.800000</td>\n",
       "      <td>9.6</td>\n",
       "      <td>10.900000</td>\n",
       "    </tr>\n",
       "    <tr>\n",
       "      <td>ZZZ3</td>\n",
       "      <td>9.30</td>\n",
       "      <td>8.9</td>\n",
       "      <td>9.200000</td>\n",
       "      <td>9.300000</td>\n",
       "      <td>9.20</td>\n",
       "      <td>9.600000</td>\n",
       "      <td>8.900000</td>\n",
       "      <td>9.8</td>\n",
       "      <td>8.80</td>\n",
       "      <td>8.600000</td>\n",
       "      <td>...</td>\n",
       "      <td>9.60</td>\n",
       "      <td>9.00</td>\n",
       "      <td>9.0</td>\n",
       "      <td>9.500000</td>\n",
       "      <td>9.2</td>\n",
       "      <td>8.50</td>\n",
       "      <td>8.8</td>\n",
       "      <td>8.600000</td>\n",
       "      <td>8.4</td>\n",
       "      <td>9.400000</td>\n",
       "    </tr>\n",
       "    <tr>\n",
       "      <td>psiTPTE22</td>\n",
       "      <td>5.50</td>\n",
       "      <td>4.5</td>\n",
       "      <td>4.700000</td>\n",
       "      <td>6.400000</td>\n",
       "      <td>4.90</td>\n",
       "      <td>5.000000</td>\n",
       "      <td>5.600000</td>\n",
       "      <td>5.1</td>\n",
       "      <td>4.60</td>\n",
       "      <td>3.600000</td>\n",
       "      <td>...</td>\n",
       "      <td>6.00</td>\n",
       "      <td>4.90</td>\n",
       "      <td>5.3</td>\n",
       "      <td>5.600000</td>\n",
       "      <td>6.1</td>\n",
       "      <td>7.20</td>\n",
       "      <td>5.1</td>\n",
       "      <td>5.900000</td>\n",
       "      <td>2.4</td>\n",
       "      <td>5.400000</td>\n",
       "    </tr>\n",
       "  </tbody>\n",
       "</table>\n",
       "<p>18465 rows × 183 columns</p>\n",
       "</div>"
      ],
      "text/plain": [
       "cid        aab1-Primary solid Tumor  aab4-Primary solid Tumor  \\\n",
       "rid                                                             \n",
       "SLC35E2                        7.45                       8.1   \n",
       "A1BG                           6.40                       5.8   \n",
       "A1CF                           4.70                       5.7   \n",
       "A2BP1                         -1.00                       1.1   \n",
       "A2LD1                          7.50                       6.8   \n",
       "...                             ...                       ...   \n",
       "ZYG11B                         9.20                       9.3   \n",
       "ZYX                           12.90                      12.4   \n",
       "ZZEF1                         10.10                       9.8   \n",
       "ZZZ3                           9.30                       8.9   \n",
       "psiTPTE22                      5.50                       4.5   \n",
       "\n",
       "cid        aab6-Primary solid Tumor  aab8-Primary solid Tumor  \\\n",
       "rid                                                             \n",
       "SLC35E2                    7.200000                  8.000000   \n",
       "A1BG                       6.400000                  5.800000   \n",
       "A1CF                       3.000000                  5.100000   \n",
       "A2BP1                      7.577068                  7.728812   \n",
       "A2LD1                      7.300000                  7.500000   \n",
       "...                             ...                       ...   \n",
       "ZYG11B                     9.400000                  9.400000   \n",
       "ZYX                       13.500000                 12.500000   \n",
       "ZZEF1                      9.800000                  9.700000   \n",
       "ZZZ3                       9.200000                  9.300000   \n",
       "psiTPTE22                  4.700000                  6.400000   \n",
       "\n",
       "cid        aab9-Primary solid Tumor  aaba-Primary solid Tumor  \\\n",
       "rid                                                             \n",
       "SLC35E2                        7.65                  8.100000   \n",
       "A1BG                           6.70                  6.600000   \n",
       "A1CF                           4.40                  4.200000   \n",
       "A2BP1                          0.10                  7.664173   \n",
       "A2LD1                          7.40                  6.600000   \n",
       "...                             ...                       ...   \n",
       "ZYG11B                         9.30                  9.900000   \n",
       "ZYX                           13.00                 12.200000   \n",
       "ZZEF1                         10.10                 10.400000   \n",
       "ZZZ3                           9.20                  9.600000   \n",
       "psiTPTE22                      4.90                  5.000000   \n",
       "\n",
       "cid        aabe-Primary solid Tumor  aabf-Primary solid Tumor  \\\n",
       "rid                                                             \n",
       "SLC35E2                    8.200000                       8.2   \n",
       "A1BG                       6.300000                       6.5   \n",
       "A1CF                       1.600000                       6.8   \n",
       "A2BP1                      7.628676                       1.7   \n",
       "A2LD1                      7.100000                       6.8   \n",
       "...                             ...                       ...   \n",
       "ZYG11B                     9.100000                       9.5   \n",
       "ZYX                       12.900000                      12.6   \n",
       "ZZEF1                      9.700000                      10.6   \n",
       "ZZZ3                       8.900000                       9.8   \n",
       "psiTPTE22                  5.600000                       5.1   \n",
       "\n",
       "cid        aabh-Primary solid Tumor  aabi-Primary solid Tumor  ...  \\\n",
       "rid                                                            ...   \n",
       "SLC35E2                        7.55                  8.450000  ...   \n",
       "A1BG                           5.70                  6.300000  ...   \n",
       "A1CF                           6.00                  7.431307  ...   \n",
       "A2BP1                          0.40                 -1.500000  ...   \n",
       "A2LD1                          8.00                  5.800000  ...   \n",
       "...                             ...                       ...  ...   \n",
       "ZYG11B                         8.90                  8.300000  ...   \n",
       "ZYX                           12.70                 12.500000  ...   \n",
       "ZZEF1                         10.00                  9.900000  ...   \n",
       "ZZZ3                           8.80                  8.600000  ...   \n",
       "psiTPTE22                      4.60                  3.600000  ...   \n",
       "\n",
       "cid        aauh-Primary solid Tumor  aaui-Primary solid Tumor  \\\n",
       "rid                                                             \n",
       "SLC35E2                        8.45                      7.95   \n",
       "A1BG                           7.10                      7.10   \n",
       "A1CF                           5.40                      6.40   \n",
       "A2BP1                          3.50                      1.30   \n",
       "A2LD1                          6.50                      7.30   \n",
       "...                             ...                       ...   \n",
       "ZYG11B                         9.70                      9.20   \n",
       "ZYX                           12.40                     12.60   \n",
       "ZZEF1                         10.60                      9.90   \n",
       "ZZZ3                           9.60                      9.00   \n",
       "psiTPTE22                      6.00                      4.90   \n",
       "\n",
       "cid        aaul-Primary solid Tumor  a8t3-Primary solid Tumor  \\\n",
       "rid                                                             \n",
       "SLC35E2                         8.3                  8.050000   \n",
       "A1BG                            6.7                  7.000000   \n",
       "A1CF                            6.5                  4.400000   \n",
       "A2BP1                          -0.3                  7.685606   \n",
       "A2LD1                           6.1                  6.700000   \n",
       "...                             ...                       ...   \n",
       "ZYG11B                          9.5                  9.500000   \n",
       "ZYX                            13.5                 12.500000   \n",
       "ZZEF1                           9.8                 10.300000   \n",
       "ZZZ3                            9.0                  9.500000   \n",
       "psiTPTE22                       5.3                  5.600000   \n",
       "\n",
       "cid        a8t5-Primary solid Tumor  a89d-Solid Tissue Normal  \\\n",
       "rid                                                             \n",
       "SLC35E2                         8.2                      7.25   \n",
       "A1BG                            6.9                      7.10   \n",
       "A1CF                            3.3                      3.60   \n",
       "A2BP1                           2.1                      2.00   \n",
       "A2LD1                           6.5                      6.70   \n",
       "...                             ...                       ...   \n",
       "ZYG11B                          9.4                      9.40   \n",
       "ZYX                            12.7                     13.60   \n",
       "ZZEF1                          10.4                     10.20   \n",
       "ZZZ3                            9.2                      8.50   \n",
       "psiTPTE22                       6.1                      7.20   \n",
       "\n",
       "cid        a89d-Primary solid Tumor  a8sy-Primary solid Tumor  \\\n",
       "rid                                                             \n",
       "SLC35E2                         7.4                  7.350000   \n",
       "A1BG                            7.3                  7.900000   \n",
       "A1CF                            6.2                  1.200000   \n",
       "A2BP1                           0.0                  7.540936   \n",
       "A2LD1                           6.7                  6.500000   \n",
       "...                             ...                       ...   \n",
       "ZYG11B                          9.6                  9.200000   \n",
       "ZYX                            13.1                 13.200000   \n",
       "ZZEF1                           9.9                  9.800000   \n",
       "ZZZ3                            8.8                  8.600000   \n",
       "psiTPTE22                       5.1                  5.900000   \n",
       "\n",
       "cid        a8lh-Primary solid Tumor  aapl-Primary solid Tumor  \n",
       "rid                                                            \n",
       "SLC35E2                         7.2                  9.050000  \n",
       "A1BG                            6.0                  6.900000  \n",
       "A1CF                            4.9                  2.000000  \n",
       "A2BP1                           2.0                  7.660114  \n",
       "A2LD1                           6.9                  6.700000  \n",
       "...                             ...                       ...  \n",
       "ZYG11B                          8.3                  9.500000  \n",
       "ZYX                            12.3                 12.300000  \n",
       "ZZEF1                           9.6                 10.900000  \n",
       "ZZZ3                            8.4                  9.400000  \n",
       "psiTPTE22                       2.4                  5.400000  \n",
       "\n",
       "[18465 rows x 183 columns]"
      ]
     },
     "execution_count": 26,
     "metadata": {},
     "output_type": "execute_result"
    }
   ],
   "source": [
    "from sklearn.impute import SimpleImputer\n",
    "my_imputer = SimpleImputer()\n",
    "imputed_my_data = pd.DataFrame(my_imputer.fit_transform(my_data))\n",
    "\n",
    "# Imputated dataremoved  putting them back\n",
    "imputed_my_data.columns = my_data.columns\n",
    "imputed_my_data.index = my_data.index\n",
    "\n",
    "imputed_my_data"
   ]
  },
  {
   "cell_type": "code",
   "execution_count": 27,
   "metadata": {},
   "outputs": [
    {
     "name": "stdout",
     "output_type": "stream",
     "text": [
      "183\n",
      "183\n"
     ]
    }
   ],
   "source": [
    "# Lets combine col_meta_data and my_data\n",
    "print(len(my_data.columns.unique()))\n",
    "print(len(col_meta_data.index.unique()))"
   ]
  },
  {
   "cell_type": "code",
   "execution_count": 28,
   "metadata": {},
   "outputs": [
    {
     "data": {
      "text/html": [
       "<div>\n",
       "<style scoped>\n",
       "    .dataframe tbody tr th:only-of-type {\n",
       "        vertical-align: middle;\n",
       "    }\n",
       "\n",
       "    .dataframe tbody tr th {\n",
       "        vertical-align: top;\n",
       "    }\n",
       "\n",
       "    .dataframe thead th {\n",
       "        text-align: right;\n",
       "    }\n",
       "</style>\n",
       "<table border=\"1\" class=\"dataframe\">\n",
       "  <thead>\n",
       "    <tr style=\"text-align: right;\">\n",
       "      <th>rid</th>\n",
       "      <th>SLC35E2</th>\n",
       "      <th>A1BG</th>\n",
       "      <th>A1CF</th>\n",
       "      <th>A2BP1</th>\n",
       "      <th>A2LD1</th>\n",
       "      <th>A2ML1</th>\n",
       "      <th>A2M</th>\n",
       "      <th>A4GALT</th>\n",
       "      <th>A4GNT</th>\n",
       "      <th>AAA1</th>\n",
       "      <th>...</th>\n",
       "      <th>psiTPTE22</th>\n",
       "      <th>sample_type</th>\n",
       "      <th>mRNAseq_cluster</th>\n",
       "      <th>adenocarcinoma_invasion</th>\n",
       "      <th>vital_status</th>\n",
       "      <th>maximum_tumor_dimension</th>\n",
       "      <th>pathologic_stage</th>\n",
       "      <th>pathologic_m</th>\n",
       "      <th>pathologic_n</th>\n",
       "      <th>pathologic_t</th>\n",
       "    </tr>\n",
       "    <tr>\n",
       "      <th>cid</th>\n",
       "      <th></th>\n",
       "      <th></th>\n",
       "      <th></th>\n",
       "      <th></th>\n",
       "      <th></th>\n",
       "      <th></th>\n",
       "      <th></th>\n",
       "      <th></th>\n",
       "      <th></th>\n",
       "      <th></th>\n",
       "      <th></th>\n",
       "      <th></th>\n",
       "      <th></th>\n",
       "      <th></th>\n",
       "      <th></th>\n",
       "      <th></th>\n",
       "      <th></th>\n",
       "      <th></th>\n",
       "      <th></th>\n",
       "      <th></th>\n",
       "      <th></th>\n",
       "    </tr>\n",
       "  </thead>\n",
       "  <tbody>\n",
       "    <tr>\n",
       "      <td>aab1</td>\n",
       "      <td>7.45</td>\n",
       "      <td>6.4</td>\n",
       "      <td>4.7</td>\n",
       "      <td>-1.0</td>\n",
       "      <td>7.5</td>\n",
       "      <td>6.400000</td>\n",
       "      <td>14.3</td>\n",
       "      <td>10.6</td>\n",
       "      <td>8.8</td>\n",
       "      <td>1.0</td>\n",
       "      <td>...</td>\n",
       "      <td>5.5</td>\n",
       "      <td>Primary solid Tumor</td>\n",
       "      <td>1.0</td>\n",
       "      <td>yes</td>\n",
       "      <td>dead</td>\n",
       "      <td>4.5</td>\n",
       "      <td>stage iib</td>\n",
       "      <td>m0</td>\n",
       "      <td>n1</td>\n",
       "      <td>t3</td>\n",
       "    </tr>\n",
       "    <tr>\n",
       "      <td>aab4</td>\n",
       "      <td>8.10</td>\n",
       "      <td>5.8</td>\n",
       "      <td>5.7</td>\n",
       "      <td>1.1</td>\n",
       "      <td>6.8</td>\n",
       "      <td>7.639954</td>\n",
       "      <td>14.0</td>\n",
       "      <td>10.2</td>\n",
       "      <td>5.6</td>\n",
       "      <td>-1.2</td>\n",
       "      <td>...</td>\n",
       "      <td>4.5</td>\n",
       "      <td>Primary solid Tumor</td>\n",
       "      <td>2.0</td>\n",
       "      <td>yes</td>\n",
       "      <td>alive</td>\n",
       "      <td>6.8</td>\n",
       "      <td>stage iib</td>\n",
       "      <td>m0</td>\n",
       "      <td>n1</td>\n",
       "      <td>t2</td>\n",
       "    </tr>\n",
       "  </tbody>\n",
       "</table>\n",
       "<p>2 rows × 18474 columns</p>\n",
       "</div>"
      ],
      "text/plain": [
       "rid   SLC35E2  A1BG  A1CF  A2BP1  A2LD1     A2ML1   A2M  A4GALT  A4GNT  AAA1  \\\n",
       "cid                                                                            \n",
       "aab1     7.45   6.4   4.7   -1.0    7.5  6.400000  14.3    10.6    8.8   1.0   \n",
       "aab4     8.10   5.8   5.7    1.1    6.8  7.639954  14.0    10.2    5.6  -1.2   \n",
       "\n",
       "rid   ...  psiTPTE22          sample_type  mRNAseq_cluster  \\\n",
       "cid   ...                                                    \n",
       "aab1  ...        5.5  Primary solid Tumor              1.0   \n",
       "aab4  ...        4.5  Primary solid Tumor              2.0   \n",
       "\n",
       "rid   adenocarcinoma_invasion  vital_status  maximum_tumor_dimension  \\\n",
       "cid                                                                    \n",
       "aab1                      yes          dead                      4.5   \n",
       "aab4                      yes         alive                      6.8   \n",
       "\n",
       "rid   pathologic_stage  pathologic_m  pathologic_n  pathologic_t  \n",
       "cid                                                               \n",
       "aab1         stage iib            m0            n1            t3  \n",
       "aab4         stage iib            m0            n1            t2  \n",
       "\n",
       "[2 rows x 18474 columns]"
      ]
     },
     "execution_count": 28,
     "metadata": {},
     "output_type": "execute_result"
    }
   ],
   "source": [
    "col_to_merge = ['sample_type', 'mRNAseq_cluster','adenocarcinoma_invasion', 'vital_status', 'maximum_tumor_dimension', 'pathologic_stage', 'pathologic_m', 'pathologic_n', 'pathologic_t']\n",
    "participant_id = col_meta_data.participant_id\n",
    "target_variable = col_meta_data.sample_type\n",
    "col_meta_data = col_meta_data.set_index('participant_id')\n",
    "imputed_my_data = imputed_my_data.rename(columns=participant_id).T\n",
    "#imputed_my_data = imputed_my_data.join(col_meta_data[col_to_merge])\n",
    "imputed_my_data.head()\n",
    "for col in col_to_merge:\n",
    "    imputed_my_data[col] = col_meta_data[col]\n",
    "imputed_my_data.head(2)"
   ]
  },
  {
   "cell_type": "code",
   "execution_count": 29,
   "metadata": {},
   "outputs": [
    {
     "data": {
      "text/plain": [
       "<matplotlib.axes._subplots.AxesSubplot at 0x7f40dfc768d0>"
      ]
     },
     "execution_count": 29,
     "metadata": {},
     "output_type": "execute_result"
    },
    {
     "data": {
      "image/png": "[encoded data removed]",
      "text/plain": [
       "<Figure size 432x288 with 1 Axes>"
      ]
     },
     "metadata": {
      "needs_background": "light"
     },
     "output_type": "display_data"
    }
   ],
   "source": [
    "def cat_to_numeric(x):\n",
    "    if x=='Solid Tissue Normal':\n",
    "        return 0\n",
    "    elif x=='Primary solid Tumor':\n",
    "        return 1\n",
    "    else:\n",
    "        return 2\n",
    "target_variable = target_variable.map(lambda x: cat_to_numeric(x))\n",
    "target_variable.value_counts().plot(kind='bar')"
   ]
  },
  {
   "cell_type": "code",
   "execution_count": 30,
   "metadata": {
    "scrolled": true
   },
   "outputs": [
    {
     "name": "stdout",
     "output_type": "stream",
     "text": [
      " mRNAseq_cluster has 5 null values. It is 2.73% of total rows.\n",
      " mRNAseq_cluster is of type float64.\n",
      "\n",
      "mRNAseq_cluster has removed 5 null values\n",
      " maximum_tumor_dimension has 14 null values. It is 7.65% of total rows.\n",
      " maximum_tumor_dimension is of type float64.\n",
      "\n",
      "maximum_tumor_dimension has removed 14 null values\n",
      "The DataFrame has 2 columns with null values. It is 0.01% of total columns.\n"
     ]
    },
    {
     "name": "stderr",
     "output_type": "stream",
     "text": [
      "/home/ashish/anaconda3/lib/python3.7/site-packages/pandas/core/frame.py:3494: SettingWithCopyWarning: \n",
      "A value is trying to be set on a copy of a slice from a DataFrame.\n",
      "Try using .loc[row_indexer,col_indexer] = value instead\n",
      "\n",
      "See the caveats in the documentation: http://pandas.pydata.org/pandas-docs/stable/user_guide/indexing.html#returning-a-view-versus-a-copy\n",
      "  self[k1] = value[k2]\n"
     ]
    }
   ],
   "source": [
    "def remove_nulls(df):\n",
    "\n",
    "    rows = df.shape[0]\n",
    "    columns = df.shape[1]\n",
    "    null_cols = 0\n",
    "    list_of_nulls_cols = []\n",
    "    for col in list(df.columns):\n",
    "        null_values_rows = df[col].isnull().sum()\n",
    "        null_rows_pcn = round(((null_values_rows)/rows)*100, 2)\n",
    "        col_type = df[col].dtype\n",
    "        if null_values_rows > 0:\n",
    "            print(\" {} has {} null values. It is {}% of total rows.\".format(col, null_values_rows, null_rows_pcn))\n",
    "            print(\" {} is of type {}.\\n\".format(col, col_type))\n",
    "            null_cols += 1\n",
    "            list_of_nulls_cols.append(col)\n",
    "            df[[col]] = df[[col]].apply(lambda x: x.fillna(method='backfill'))\n",
    "            print(f\"{col} has removed {null_values_rows} null values\")\n",
    "    null_cols_pcn = round((null_cols/columns)*100, 2)\n",
    "    print(\"The DataFrame has {} columns with null values. It is {}% of total columns.\".format(null_cols, null_cols_pcn))\n",
    "    return df\n",
    "\n",
    "my_data = remove_nulls(imputed_my_data.select_dtypes(exclude='object'))"
   ]
  },
  {
   "cell_type": "code",
   "execution_count": 31,
   "metadata": {},
   "outputs": [
    {
     "data": {
      "text/plain": [
       "23"
      ]
     },
     "execution_count": 31,
     "metadata": {},
     "output_type": "execute_result"
    }
   ],
   "source": [
    "imputed_my_data.isnull().sum().sum()"
   ]
  },
  {
   "cell_type": "code",
   "execution_count": 32,
   "metadata": {},
   "outputs": [],
   "source": [
    "\n",
    "from sklearn.preprocessing import StandardScaler\n",
    "X_std = StandardScaler().fit_transform(imputed_my_data.drop(columns=col_to_merge))\n",
    "\n",
    "from sklearn.decomposition import PCA as sklearnPCA\n",
    "n_components = 100\n",
    "sklearn_pca = sklearnPCA(n_components=n_components)\n",
    "Y_sklearn = sklearn_pca.fit_transform(X_std)"
   ]
  },
  {
   "cell_type": "code",
   "execution_count": 33,
   "metadata": {},
   "outputs": [
    {
     "data": {
      "text/plain": [
       "Text(0.5, 1.0, '2D Transformation of whole data using PCA graph ')"
      ]
     },
     "execution_count": 33,
     "metadata": {},
     "output_type": "execute_result"
    },
    {
     "data": {
      "image/png": "[encoded data removed]",
      "text/plain": [
       "<Figure size 720x432 with 1 Axes>"
      ]
     },
     "metadata": {
      "needs_background": "light"
     },
     "output_type": "display_data"
    }
   ],
   "source": [
    "from sklearn.decomposition import PCA as sklearnPCA\n",
    "sklearn_pca = sklearnPCA(n_components=3)\n",
    "X_reduced  = sklearn_pca.fit_transform(X_std)\n",
    "Y=target_variable\n",
    "fig = plt.figure(1, figsize=(10,6))\n",
    "sns.scatterplot(X_reduced[:, 0],  X_reduced[:, 1],hue=Y)\n",
    "plt.title(\"2D Transformation of whole data using PCA graph \")"
   ]
  },
  {
   "cell_type": "markdown",
   "metadata": {},
   "source": [
    "TASK-2\n",
    "\n",
    "Lets Remove the neuroendocrine tumors from the dataset so that it contains only the adenocarcinoma tumor samples. The histology for the different tumor samples is contained in the my_data."
   ]
  },
  {
   "cell_type": "code",
   "execution_count": 34,
   "metadata": {},
   "outputs": [
    {
     "data": {
      "text/plain": [
       "(182, 18474)"
      ]
     },
     "execution_count": 34,
     "metadata": {},
     "output_type": "execute_result"
    }
   ],
   "source": [
    "imputed_my_data = imputed_my_data[imputed_my_data['adenocarcinoma_invasion']=='yes']\n",
    "imputed_my_data.shape"
   ]
  },
  {
   "cell_type": "markdown",
   "metadata": {},
   "source": [
    "Interferons (IFNs) are a group of signaling proteins made and released by host cells in response to the presence of several pathogens, such as viruses, bacteria, parasites, and also tumor cells. Type I interferons (IFNs) are a large subgroup of interferon proteins that help regulate the activity of the immune system. The genes responsible for type 1 Interferons is called Type 1 IFN signature and consists a set of 25 genes in homo sapiens."
   ]
  },
  {
   "cell_type": "code",
   "execution_count": 35,
   "metadata": {},
   "outputs": [
    {
     "data": {
      "text/html": [
       "<div>\n",
       "<style scoped>\n",
       "    .dataframe tbody tr th:only-of-type {\n",
       "        vertical-align: middle;\n",
       "    }\n",
       "\n",
       "    .dataframe tbody tr th {\n",
       "        vertical-align: top;\n",
       "    }\n",
       "\n",
       "    .dataframe thead th {\n",
       "        text-align: right;\n",
       "    }\n",
       "</style>\n",
       "<table border=\"1\" class=\"dataframe\">\n",
       "  <thead>\n",
       "    <tr style=\"text-align: right;\">\n",
       "      <th></th>\n",
       "      <th>Group</th>\n",
       "    </tr>\n",
       "  </thead>\n",
       "  <tbody>\n",
       "    <tr>\n",
       "      <td>0</td>\n",
       "      <td>IFIT1</td>\n",
       "    </tr>\n",
       "    <tr>\n",
       "      <td>1</td>\n",
       "      <td>IFI44</td>\n",
       "    </tr>\n",
       "    <tr>\n",
       "      <td>2</td>\n",
       "      <td>IFIT3</td>\n",
       "    </tr>\n",
       "    <tr>\n",
       "      <td>3</td>\n",
       "      <td>MX2</td>\n",
       "    </tr>\n",
       "    <tr>\n",
       "      <td>4</td>\n",
       "      <td>OAS1</td>\n",
       "    </tr>\n",
       "  </tbody>\n",
       "</table>\n",
       "</div>"
      ],
      "text/plain": [
       "   Group\n",
       "0  IFIT1\n",
       "1  IFI44\n",
       "2  IFIT3\n",
       "3    MX2\n",
       "4   OAS1"
      ]
     },
     "execution_count": 35,
     "metadata": {},
     "output_type": "execute_result"
    }
   ],
   "source": [
    "ifn_sig = pd.read_csv('type1_IFN.txt', header=None)\n",
    "ifn_sig.columns = ['Group']\n",
    "ifn_sig.head()"
   ]
  },
  {
   "cell_type": "code",
   "execution_count": 36,
   "metadata": {},
   "outputs": [
    {
     "data": {
      "text/plain": [
       "(182, 25)"
      ]
     },
     "execution_count": 36,
     "metadata": {},
     "output_type": "execute_result"
    }
   ],
   "source": [
    "ifn_sig_data = imputed_my_data[ifn_sig['Group'].to_list()]\n",
    "ifn_sig_data.shape"
   ]
  },
  {
   "cell_type": "code",
   "execution_count": 37,
   "metadata": {},
   "outputs": [
    {
     "data": {
      "text/plain": [
       "<matplotlib.axes._subplots.AxesSubplot at 0x7f40df15b250>"
      ]
     },
     "execution_count": 37,
     "metadata": {},
     "output_type": "execute_result"
    },
    {
     "data": {
      "image/png": "[encoded data removed]",
      "text/plain": [
       "<Figure size 720x432 with 1 Axes>"
      ]
     },
     "metadata": {
      "needs_background": "light"
     },
     "output_type": "display_data"
    }
   ],
   "source": [
    "X_std = StandardScaler().fit_transform(ifn_sig_data)\n",
    "n_components = 2\n",
    "sklearn_pca = sklearnPCA(n_components=n_components)\n",
    "X_reduced  = sklearn_pca.fit_transform(X_std)\n",
    "fig = plt.figure(1, figsize=(10,6))\n",
    "sns.scatterplot(X_reduced[:, 0],  X_reduced[:, 1],hue=imputed_my_data['sample_type'])"
   ]
  },
  {
   "cell_type": "code",
   "execution_count": 38,
   "metadata": {},
   "outputs": [
    {
     "data": {
      "image/png": "[encoded data removed]",
      "text/plain": [
       "<Figure size 640x480 with 1 Axes>"
      ]
     },
     "metadata": {},
     "output_type": "display_data"
    },
    {
     "data": {
      "text/plain": [
       "<ggplot: (8744787352845)>"
      ]
     },
     "execution_count": 38,
     "metadata": {},
     "output_type": "execute_result"
    }
   ],
   "source": [
    "XV = TSNE(n_components=2).\\\n",
    "    fit_transform(ifn_sig_data.T)\n",
    "df = pd.DataFrame(XV).rename(columns={0:'x',1:'y'})\n",
    "(ggplot(df,aes(x='x',y='y'))\n",
    " + geom_point(alpha=0.2)\n",
    ")"
   ]
  }
 ],
 "metadata": {
  "celltoolbar": "Raw Cell Format",
  "kernelspec": {
   "display_name": "Python 2",
   "language": "python",
   "name": "python2"
  },
  "language_info": {
   "codemirror_mode": {
    "name": "ipython",
    "version": 3
   },
   "file_extension": ".py",
   "mimetype": "text/x-python",
   "name": "python",
   "nbconvert_exporter": "python",
   "pygments_lexer": "ipython3",
   "version": "3.7.4"
  }
 },
 "nbformat": 4,
 "nbformat_minor": 2
}
